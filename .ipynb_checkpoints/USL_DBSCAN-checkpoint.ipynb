{
 "cells": [
  {
   "cell_type": "code",
   "execution_count": 1,
   "metadata": {},
   "outputs": [],
   "source": [
    "import numpy as np\n",
    "import pandas as pd\n",
    "import matplotlib.pyplot as plt\n",
    "from sklearn import metrics\n",
    "import matplotlib.cm as cm\n",
    "from sklearn.cluster import DBSCAN,KMeans\n",
    "from sklearn.datasets.samples_generator import make_blobs\n",
    "from sklearn.datasets import load_breast_cancer,fetch_lfw_people\n",
    "from sklearn.preprocessing import StandardScaler\n",
    "from sklearn.decomposition import PCA\n",
    "from sklearn.manifold import TSNE\n",
    "\n",
    "%matplotlib inline"
   ]
  },
  {
   "cell_type": "code",
   "execution_count": null,
   "metadata": {},
   "outputs": [],
   "source": [
    "X, y = make_blobs(\n",
    "    n_samples = 300, \n",
    "    centers = 4,\n",
    "    cluster_std = 0.60, \n",
    "    random_state = 0\n",
    ")\n",
    "plt.scatter(X[:, 0], X[:, 1], s = 50)"
   ]
  },
  {
   "cell_type": "code",
   "execution_count": null,
   "metadata": {},
   "outputs": [],
   "source": [
    "scan = DBSCAN()\n",
    "scan"
   ]
  },
  {
   "cell_type": "code",
   "execution_count": null,
   "metadata": {},
   "outputs": [],
   "source": [
    "y_scan = scan.fit_predict(X)"
   ]
  },
  {
   "cell_type": "code",
   "execution_count": null,
   "metadata": {},
   "outputs": [],
   "source": [
    "y_scan"
   ]
  },
  {
   "cell_type": "code",
   "execution_count": null,
   "metadata": {},
   "outputs": [],
   "source": [
    "num_clusters = len(np.unique(y_scan))\n",
    "num_clusters"
   ]
  },
  {
   "cell_type": "code",
   "execution_count": null,
   "metadata": {},
   "outputs": [],
   "source": [
    "np.bincount(y_scan + 1)"
   ]
  },
  {
   "cell_type": "code",
   "execution_count": null,
   "metadata": {},
   "outputs": [],
   "source": [
    "cancer_data = load_breast_cancer()"
   ]
  },
  {
   "cell_type": "code",
   "execution_count": null,
   "metadata": {},
   "outputs": [],
   "source": [
    "scaler = StandardScaler().fit(cancer_data.data)\n",
    "X_cancer = scaler.transform(cancer_data.data)"
   ]
  },
  {
   "cell_type": "code",
   "execution_count": null,
   "metadata": {},
   "outputs": [],
   "source": [
    "scan = DBSCAN()\n",
    "scan_cancer = scan.fit_predict(X_cancer)"
   ]
  },
  {
   "cell_type": "code",
   "execution_count": null,
   "metadata": {},
   "outputs": [],
   "source": [
    "len(np.bincount(scan_cancer + 1))"
   ]
  },
  {
   "cell_type": "code",
   "execution_count": null,
   "metadata": {},
   "outputs": [],
   "source": [
    "def apply_dbscan(data, min_clusters, min_samples = [1, 2, 3, 4, 5], eps = [0.5, 1.0, 1.5, 2.0]):\n",
    "    for i in range(len(min_samples)):\n",
    "        for j in range(len(eps)):\n",
    "            scan = DBSCAN(eps = eps[j], min_samples = min_samples[i])\n",
    "            scan_data = scan.fit_predict(data)\n",
    "            if(len(np.bincount(scan_data + 1)) > min_clusters):\n",
    "                print(\n",
    "                    'eps = ',\n",
    "                    eps[j],\n",
    "                    'min_samples = ',\n",
    "                    min_samples[i],\n",
    "                    'num_clusters =',\n",
    "                    len(np.bincount(scan_data + 1)),\n",
    "                    'clusters=',\n",
    "                    np.bincount(scan_data + 1)\n",
    "                )\n",
    "    \n",
    "    \n"
   ]
  },
  {
   "cell_type": "code",
   "execution_count": null,
   "metadata": {},
   "outputs": [],
   "source": [
    "apply_dbscan(\n",
    "    X_cancer, \n",
    "    min_clusters = 2, \n",
    "    min_samples = [1,2,3,4,5],\n",
    "    eps = [3.0, 3.5, 4.0, 4.5, 5, 5.5, 6, 10, 11, 12, 13, 14, 15]\n",
    ")"
   ]
  },
  {
   "cell_type": "code",
   "execution_count": null,
   "metadata": {},
   "outputs": [],
   "source": [
    "scan = DBSCAN(eps= 5.5, min_samples = 2)\n",
    "scan_cancer = scan.fit_predict(X_cancer)\n",
    "print(np.bincount(scan_cancer + 1))"
   ]
  },
  {
   "cell_type": "code",
   "execution_count": null,
   "metadata": {},
   "outputs": [],
   "source": [
    "np.argwhere(scan_cancer == 1)"
   ]
  },
  {
   "cell_type": "code",
   "execution_count": null,
   "metadata": {},
   "outputs": [],
   "source": [
    "cancer_data.data[]"
   ]
  },
  {
   "cell_type": "code",
   "execution_count": null,
   "metadata": {},
   "outputs": [],
   "source": [
    "def display_dbscan_images(labels,data,targets,max_images=10):\n",
    "    for cluster in range(max(labels) + 1):\n",
    "        mask = (labels == cluster)\n",
    "        num_images = np.sum(mask)\n",
    "        if(num_images > max_images):\n",
    "            continue\n",
    "        fig, axes = plt.subplots(\n",
    "            1, \n",
    "            num_images, \n",
    "            figsize = (num_images * 1.5, 4),\n",
    "            subplot_kw = {'xticks': (), 'yticks': ()}\n",
    "        )\n",
    "        for image, label, ax in zip(data[mask], targets[mask], axes):\n",
    "            ax.imshow(image.reshape(image_shape),cmap = 'gray')\n",
    "            ax.set_title(people.target_names[label].split()[-1])"
   ]
  },
  {
   "cell_type": "code",
   "execution_count": null,
   "metadata": {},
   "outputs": [],
   "source": [
    "people = fetch_lfw_people(min_faces_per_person = 20, resize = 0.7)\n",
    "mask = np.zeros(people.target.shape, dtype = np.bool)\n",
    "for target in np.unique(people.target):\n",
    "    mask[np.where(people.target == target)[0][:50]] = 1\n",
    "people_data_filtered = people.data[mask]\n",
    "people_target_filtered = people.target[mask]\n",
    "image_shape = people.images[0].shape"
   ]
  },
  {
   "cell_type": "code",
   "execution_count": null,
   "metadata": {},
   "outputs": [],
   "source": [
    "pca = PCA(n_components = 100, whiten = True, random_state = 314)\n",
    "X_scaled = people_data_filtered / 255.\n",
    "X_pca = pca.fit_transform(X_scaled)\n",
    "print(\"X_pca.shape: {}\".format(X_pca.shape))"
   ]
  },
  {
   "cell_type": "code",
   "execution_count": null,
   "metadata": {},
   "outputs": [],
   "source": [
    "apply_dbscan(\n",
    "    X_pca,\n",
    "    2,\n",
    "    min_samples = [1,2,3,4,5],\n",
    "    eps = [3.0,3.5,4.0,4.5,5,5.5,6,7,10,11,12]\n",
    ")"
   ]
  },
  {
   "cell_type": "code",
   "execution_count": null,
   "metadata": {},
   "outputs": [],
   "source": [
    "dbscan = DBSCAN(min_samples = 3, eps = 7)\n",
    "clusters = dbscan.fit_predict(X_pca)\n",
    "print(\"unique labels: {}\".format(np.unique(clusters)))\n",
    "print(\"number of points per cluster: {}\".format(np.bincount(clusters + 1)))"
   ]
  },
  {
   "cell_type": "code",
   "execution_count": null,
   "metadata": {},
   "outputs": [],
   "source": [
    "display_dbscan_images(\n",
    "    clusters,\n",
    "    people_data_filtered,\n",
    "    people_target_filtered\n",
    ")"
   ]
  },
  {
   "cell_type": "code",
   "execution_count": null,
   "metadata": {},
   "outputs": [],
   "source": [
    "image_shape = people.images[0].shape\n",
    "fig, axes = plt.subplots(3,10,figsize=(15, 8),subplot_kw=dict(xticks=[], yticks=[]))\n",
    "noise = people_data_filtered[clusters == -1]\n",
    "for image,ax in zip(noise,axes.ravel()):\n",
    "    ax.imshow(image.reshape(image_shape), cmap='gray')"
   ]
  },
  {
   "cell_type": "code",
   "execution_count": null,
   "metadata": {},
   "outputs": [],
   "source": [
    "tsne = TSNE(random_state = 42)\n",
    "X_tsne = tsne.fit_transform(X_scaled)\n",
    "print(\"X_tsne.shape: {}\".format(X_tsne.shape))"
   ]
  },
  {
   "cell_type": "code",
   "execution_count": null,
   "metadata": {},
   "outputs": [],
   "source": [
    "apply_dbscan(\n",
    "    X_tsne,\n",
    "    2,\n",
    "    min_samples = [1,2,3,4,5],\n",
    "    eps = [3.0,3.5,4.0,4.5,5,5.5,6,7,10,11,12]\n",
    ")"
   ]
  },
  {
   "cell_type": "code",
   "execution_count": null,
   "metadata": {},
   "outputs": [],
   "source": [
    "dbscan = DBSCAN(min_samples = 3, eps = 3)\n",
    "labels = dbscan.fit_predict(X_tsne)"
   ]
  },
  {
   "cell_type": "code",
   "execution_count": null,
   "metadata": {},
   "outputs": [],
   "source": [
    "print(\"unique labels: {}\".format(np.unique(labels)))\n",
    "print(\"number of points per cluster: {}\".format(np.bincount(labels + 1)))"
   ]
  },
  {
   "cell_type": "code",
   "execution_count": null,
   "metadata": {},
   "outputs": [],
   "source": [
    "display_dbscan_images(\n",
    "    labels,\n",
    "    people_data_filtered,\n",
    "    people_target_filtered\n",
    ")"
   ]
  },
  {
   "cell_type": "code",
   "execution_count": null,
   "metadata": {},
   "outputs": [],
   "source": [
    "image_shape = people.images[0].shape\n",
    "fig, axes = plt.subplots(3, 10, figsize=(15, 8), subplot_kw = dict(xticks=[], yticks=[]))\n",
    "noise = people_data_filtered[labels == -1]\n",
    "for image,ax in zip(noise,axes.ravel()):\n",
    "    ax.imshow(image.reshape(image_shape), cmap='gray')"
   ]
  },
  {
   "cell_type": "code",
   "execution_count": null,
   "metadata": {},
   "outputs": [],
   "source": []
  }
 ],
 "metadata": {
  "kernelspec": {
   "display_name": "Python 3",
   "language": "python",
   "name": "python3"
  },
  "language_info": {
   "codemirror_mode": {
    "name": "ipython",
    "version": 3
   },
   "file_extension": ".py",
   "mimetype": "text/x-python",
   "name": "python",
   "nbconvert_exporter": "python",
   "pygments_lexer": "ipython3",
   "version": "3.7.1"
  }
 },
 "nbformat": 4,
 "nbformat_minor": 2
}
