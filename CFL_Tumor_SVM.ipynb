{
 "cells": [
  {
   "cell_type": "code",
   "execution_count": 1,
   "metadata": {},
   "outputs": [],
   "source": [
    "%matplotlib inline\n",
    "import numpy as np\n",
    "import pandas as pd\n",
    "import sklearn\n",
    "import matplotlib.pyplot as plt\n",
    "from sklearn.datasets import load_breast_cancer\n",
    "from sklearn.model_selection import train_test_split\n",
    "from sklearn.metrics import confusion_matrix\n",
    "from sklearn.metrics import classification_report\n",
    "from sklearn.metrics import f1_score\n",
    "from sklearn.preprocessing import StandardScaler\n",
    "from sklearn import svm"
   ]
  },
  {
   "cell_type": "code",
   "execution_count": 2,
   "metadata": {},
   "outputs": [],
   "source": [
    "# Load and split data\n",
    "cancer_data = load_breast_cancer()\n",
    "X_train, X_test, y_train, y_test = train_test_split(\n",
    "    cancer_data.data, \n",
    "    cancer_data.target,\n",
    "    stratify = cancer_data.target,\n",
    "    shuffle = True,\n",
    "    random_state=144\n",
    ")\n"
   ]
  },
  {
   "cell_type": "code",
   "execution_count": 3,
   "metadata": {},
   "outputs": [
    {
     "name": "stdout",
     "output_type": "stream",
     "text": [
      "Training set score: 0.86\n",
      "Test set score: 0.85\n"
     ]
    }
   ],
   "source": [
    "# Fit model with low regularization\n",
    "svm_model = svm.LinearSVC(C = 100.0)\n",
    "svm_model.fit(X_train, y_train)\n",
    "print(\"Training set score: {:.2f}\".format(svm_model.score(X_train, y_train)))\n",
    "print(\"Test set score: {:.2f}\".format(svm_model.score(X_test, y_test)))"
   ]
  },
  {
   "cell_type": "code",
   "execution_count": 4,
   "metadata": {},
   "outputs": [
    {
     "name": "stdout",
     "output_type": "stream",
     "text": [
      "Confusion matrix:\n",
      "[[49  4]\n",
      " [17 73]]\n",
      "             precision    recall  f1-score   support\n",
      "\n",
      "  malignant       0.74      0.92      0.82        53\n",
      "     benign       0.95      0.81      0.87        90\n",
      "\n",
      "avg / total       0.87      0.85      0.86       143\n",
      "\n"
     ]
    }
   ],
   "source": [
    "# Assess model performance\n",
    "pred_svm = svm_model.predict(X_test)\n",
    "confusion = confusion_matrix(y_test, pred_svm)\n",
    "print(\"Confusion matrix:\\n{}\".format(confusion))\n",
    "print(classification_report(y_test, pred_svm, target_names = [\"malignant\", \"benign\"]))"
   ]
  },
  {
   "cell_type": "code",
   "execution_count": 5,
   "metadata": {},
   "outputs": [],
   "source": [
    "# Repeat with scaled data\n",
    "scaler = StandardScaler().fit(X_train)\n",
    "X_train_scaled = scaler.transform(X_train)\n",
    "X_test_scaled = scaler.transform(X_test)"
   ]
  },
  {
   "cell_type": "code",
   "execution_count": 6,
   "metadata": {},
   "outputs": [
    {
     "name": "stdout",
     "output_type": "stream",
     "text": [
      "Train set accuracy: 0.99\n",
      "Test set accuracy: 0.97\n"
     ]
    }
   ],
   "source": [
    "svm_model = svm.LinearSVC(C=1.0)\n",
    "svm_model.fit(X_train_scaled, y_train)\n",
    "print(\"Train set accuracy: {:.2f}\".format(svm_model.score(X_train_scaled, y_train)))\n",
    "print(\"Test set accuracy: {:.2f}\".format(svm_model.score(X_test_scaled, y_test)))\n"
   ]
  },
  {
   "cell_type": "code",
   "execution_count": 7,
   "metadata": {},
   "outputs": [
    {
     "name": "stdout",
     "output_type": "stream",
     "text": [
      "Confusion matrix:\n",
      "[[49  4]\n",
      " [ 1 89]]\n",
      "             precision    recall  f1-score   support\n",
      "\n",
      "  malignant       0.98      0.92      0.95        53\n",
      "     benign       0.96      0.99      0.97        90\n",
      "\n",
      "avg / total       0.97      0.97      0.96       143\n",
      "\n"
     ]
    }
   ],
   "source": [
    "pred_svm = svm_model.predict(X_test_scaled)\n",
    "confusion = confusion_matrix(y_test, pred_svm)\n",
    "print(\"Confusion matrix:\\n{}\".format(confusion))\n",
    "print(classification_report(y_test, pred_svm, target_names = [\"malignant\", \"benign\"]))"
   ]
  }
 ],
 "metadata": {
  "kernelspec": {
   "display_name": "Python 3",
   "language": "python",
   "name": "python3"
  },
  "language_info": {
   "codemirror_mode": {
    "name": "ipython",
    "version": 3
   },
   "file_extension": ".py",
   "mimetype": "text/x-python",
   "name": "python",
   "nbconvert_exporter": "python",
   "pygments_lexer": "ipython3",
   "version": "3.6.4"
  }
 },
 "nbformat": 4,
 "nbformat_minor": 2
}
