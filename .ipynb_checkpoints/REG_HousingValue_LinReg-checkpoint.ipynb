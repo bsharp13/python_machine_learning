{
 "cells": [
  {
   "cell_type": "code",
   "execution_count": 1,
   "metadata": {},
   "outputs": [],
   "source": [
    "import os\n",
    "%matplotlib inline\n",
    "import matplotlib\n",
    "import matplotlib.pyplot as plt\n",
    "import numpy as np\n",
    "import pandas as pd\n",
    "from sklearn.impute import SimpleImputer\n",
    "from sklearn.model_selection import train_test_split\n",
    "from sklearn.preprocessing import MinMaxScaler\n",
    "from sklearn.preprocessing import PolynomialFeatures\n",
    "from sklearn.metrics import mean_squared_error\n",
    "from sklearn.metrics import r2_score\n",
    "from sklearn.linear_model import LinearRegression"
   ]
  },
  {
   "cell_type": "code",
   "execution_count": 2,
   "metadata": {},
   "outputs": [
    {
     "name": "stdout",
     "output_type": "stream",
     "text": [
      "<class 'pandas.core.frame.DataFrame'>\n",
      "RangeIndex: 20640 entries, 0 to 20639\n",
      "Data columns (total 10 columns):\n",
      "longitude             20640 non-null float64\n",
      "latitude              20640 non-null float64\n",
      "housing_median_age    20640 non-null float64\n",
      "total_rooms           20640 non-null float64\n",
      "total_bedrooms        20433 non-null float64\n",
      "population            20640 non-null float64\n",
      "households            20640 non-null float64\n",
      "median_income         20640 non-null float64\n",
      "median_house_value    20640 non-null float64\n",
      "ocean_proximity       20640 non-null object\n",
      "dtypes: float64(9), object(1)\n",
      "memory usage: 1.6+ MB\n"
     ]
    }
   ],
   "source": [
    "# Read and examine data\n",
    "LOCAL_DIR = os.path.join(\"data\")\n",
    "LOCAL_FILE = os.path.join(LOCAL_DIR,'housing.csv')\n",
    "df = pd.read_csv(LOCAL_FILE)\n",
    "df.info()"
   ]
  },
  {
   "cell_type": "code",
   "execution_count": 3,
   "metadata": {},
   "outputs": [],
   "source": [
    "# One Hot Encoding\n",
    "df = pd.get_dummies(df)"
   ]
  },
  {
   "cell_type": "code",
   "execution_count": 4,
   "metadata": {},
   "outputs": [],
   "source": [
    "# Median impute for missing data\n",
    "imputer = SimpleImputer(strategy = \"median\")\n",
    "imputed = imputer.fit_transform(df)\n",
    "df = pd.DataFrame(imputed,columns = df.columns)"
   ]
  },
  {
   "cell_type": "code",
   "execution_count": 5,
   "metadata": {},
   "outputs": [
    {
     "data": {
      "text/plain": [
       "<matplotlib.axes._subplots.AxesSubplot at 0x116217518>"
      ]
     },
     "execution_count": 5,
     "metadata": {},
     "output_type": "execute_result"
    },
    {
     "data": {
      "image/png": "[encoded data removed]",
      "text/plain": [
       "<Figure size 432x288 with 1 Axes>"
      ]
     },
     "metadata": {
      "needs_background": "light"
     },
     "output_type": "display_data"
    }
   ],
   "source": [
    "# Histogram: Median Income\n",
    "df['median_income'].hist()"
   ]
  },
  {
   "cell_type": "code",
   "execution_count": 6,
   "metadata": {},
   "outputs": [
    {
     "data": {
      "text/plain": [
       "(3.2, 6.4]      10232\n",
       "(0.0, 3.2]       8659\n",
       "(6.4, 9.6]       1407\n",
       "(9.6, 12.8]       256\n",
       "(12.8, 16.0]       86\n",
       "Name: median_income_cats, dtype: int64"
      ]
     },
     "execution_count": 6,
     "metadata": {},
     "output_type": "execute_result"
    }
   ],
   "source": [
    "# Bucketize Median Income\n",
    "buckets = np.linspace(0,16,6)\n",
    "df['median_income_cats'] = pd.cut(df['median_income'], buckets)\n",
    "df['median_income_cats'].value_counts()"
   ]
  },
  {
   "cell_type": "code",
   "execution_count": 12,
   "metadata": {},
   "outputs": [],
   "source": [
    "# Test train split\n",
    "X_train, X_test = train_test_split(\n",
    "  df,\n",
    "  test_size = 0.2,\n",
    "  stratify= df['median_income_cats'],\n",
    "  shuffle = True,\n",
    "  random_state = 314\n",
    ")"
   ]
  },
  {
   "cell_type": "code",
   "execution_count": 13,
   "metadata": {},
   "outputs": [],
   "source": [
    "# Train validation split\n",
    "X_train, X_valid = train_test_split(\n",
    "  X_train,\n",
    "  test_size = 0.15,\n",
    "  stratify = X_train['median_income_cats'],\n",
    "  shuffle = True,\n",
    "  random_state = 314\n",
    ")"
   ]
  },
  {
   "cell_type": "code",
   "execution_count": 14,
   "metadata": {},
   "outputs": [
    {
     "name": "stderr",
     "output_type": "stream",
     "text": [
      "/Library/Frameworks/Python.framework/Versions/3.7/lib/python3.7/site-packages/pandas/core/frame.py:3697: SettingWithCopyWarning: \n",
      "A value is trying to be set on a copy of a slice from a DataFrame\n",
      "\n",
      "See the caveats in the documentation: http://pandas.pydata.org/pandas-docs/stable/indexing.html#indexing-view-versus-copy\n",
      "  errors=errors)\n"
     ]
    }
   ],
   "source": [
    "# Split into x and y\n",
    "y_train = X_train['median_house_value'].copy()\n",
    "y_valid = X_valid['median_house_value'].copy()\n",
    "y_test = X_test['median_house_value'].copy()\n",
    "\n",
    "\n",
    "X_train.drop('median_house_value', axis = 1, inplace = True)\n",
    "X_valid.drop('median_house_value', axis = 1, inplace = True)\n",
    "X_test.drop('median_house_value', axis = 1, inplace = True)\n",
    "\n",
    "X_train.drop('median_income_cats', axis = 1, inplace = True)\n",
    "X_valid.drop('median_income_cats', axis = 1, inplace = True)\n",
    "X_test.drop('median_income_cats', axis = 1, inplace = True)"
   ]
  },
  {
   "cell_type": "code",
   "execution_count": 15,
   "metadata": {},
   "outputs": [],
   "source": [
    "# Scale X data\n",
    "scalerMM = MinMaxScaler()\n",
    "scalerMM.fit(X_train)\n",
    "\n",
    "X_train_scaled = scalerMM.transform(X_train)\n",
    "X_valid_scaled = scalerMM.transform(X_valid)\n",
    "X_test_scaled = scalerMM.transform(X_test)"
   ]
  },
  {
   "cell_type": "code",
   "execution_count": 16,
   "metadata": {},
   "outputs": [
    {
     "data": {
      "text/plain": [
       "(14035, 1)"
      ]
     },
     "execution_count": 16,
     "metadata": {},
     "output_type": "execute_result"
    }
   ],
   "source": [
    "# Reshape y\n",
    "y_train.values.reshape(-1, 1).shape"
   ]
  },
  {
   "cell_type": "code",
   "execution_count": 19,
   "metadata": {},
   "outputs": [],
   "source": [
    "# Scale y\n",
    "scaler_y = MinMaxScaler()\n",
    "scaler_y.fit(y_train.values.reshape(-1, 1))\n",
    "\n",
    "y_train_scaled = scaler_y.transform(y_train.values.reshape(-1, 1))\n",
    "y_valid_scaled = scaler_y.transform(y_valid.values.reshape(-1, 1))\n",
    "y_test_scaled = scaler_y.transform(y_test.values.reshape(-1, 1))"
   ]
  },
  {
   "cell_type": "code",
   "execution_count": 21,
   "metadata": {},
   "outputs": [
    {
     "name": "stdout",
     "output_type": "stream",
     "text": [
      "Training set score: 0.65\n",
      "validation set score: 0.63\n"
     ]
    },
    {
     "name": "stderr",
     "output_type": "stream",
     "text": [
      "/Library/Frameworks/Python.framework/Versions/3.7/lib/python3.7/site-packages/sklearn/linear_model/base.py:485: RuntimeWarning: internal gelsd driver lwork query error, required iwork dimension not returned. This is likely the result of LAPACK bug 0038, fixed in LAPACK 3.2.2 (released July 21, 2010). Falling back to 'gelss' driver.\n",
      "  linalg.lstsq(X, y)\n"
     ]
    }
   ],
   "source": [
    "# Fit linear regression\n",
    "lr = LinearRegression()\n",
    "lr.fit(X_train_scaled, y_train_scaled)\n",
    "\n",
    "print(\"Training set score: {:.2f}\".format(lr.score(X_train_scaled, y_train_scaled)))\n",
    "print(\"validation set score: {:.2f}\".format(lr.score(X_valid_scaled, y_valid_scaled)))"
   ]
  },
  {
   "cell_type": "code",
   "execution_count": 23,
   "metadata": {},
   "outputs": [],
   "source": [
    "# Make predictions\n",
    "train_preds = lr.predict(X_train_scaled)\n",
    "valid_preds = lr.predict(X_valid_scaled)"
   ]
  },
  {
   "cell_type": "code",
   "execution_count": 24,
   "metadata": {},
   "outputs": [
    {
     "name": "stdout",
     "output_type": "stream",
     "text": [
      "Training RMSE: 0.14\n",
      "Training RMSE: 0.15\n"
     ]
    }
   ],
   "source": [
    "# Assess model performance\n",
    "model_mse_train = mean_squared_error(y_train_scaled, train_preds)\n",
    "model_rmse_train = np.sqrt(model_mse_train)\n",
    "print(\"Training RMSE: {:.2f}\".format(model_rmse_train))\n",
    "\n",
    "model_mse_valid = mean_squared_error(y_valid_scaled, valid_preds)\n",
    "model_rmse_valid = np.sqrt(model_mse_valid)\n",
    "print(\"Training RMSE: {:.2f}\".format(model_rmse_valid))"
   ]
  },
  {
   "cell_type": "code",
   "execution_count": 25,
   "metadata": {},
   "outputs": [
    {
     "name": "stdout",
     "output_type": "stream",
     "text": [
      "Training R2 score: 0.65\n",
      "validation R2 score: 0.63\n"
     ]
    }
   ],
   "source": [
    "# Measure R^2\n",
    "print(\"Training R2 score: {:.2f}\".format(r2_score(y_train_scaled, train_preds)))\n",
    "print(\"validation R2 score: {:.2f}\".format(r2_score(y_valid_scaled, valid_preds)))"
   ]
  }
 ],
 "metadata": {
  "kernelspec": {
   "display_name": "Python 3",
   "language": "python",
   "name": "python3"
  },
  "language_info": {
   "codemirror_mode": {
    "name": "ipython",
    "version": 3
   },
   "file_extension": ".py",
   "mimetype": "text/x-python",
   "name": "python",
   "nbconvert_exporter": "python",
   "pygments_lexer": "ipython3",
   "version": "3.6.4"
  }
 },
 "nbformat": 4,
 "nbformat_minor": 2
}
