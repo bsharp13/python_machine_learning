{
 "cells": [
  {
   "cell_type": "markdown",
   "metadata": {},
   "source": [
    "## Dimensionality reduction on features with nonlinear relationships\n",
    "\n",
    "Dimensionality reduction is performed most frequently using principal component analysis (PCA). However, PCA often falls short in capturing variance of highly dimensional data wherein the dimensions have nonlinear relationships with each other. This exercise will demonstrate the effectiveness of two-component PCA compared to two other techniques, t-SNE and Isomap, in classifying images of handwritten digits."
   ]
  },
  {
   "cell_type": "code",
   "execution_count": null,
   "metadata": {},
   "outputs": [],
   "source": [
    "%matplotlib inline\n",
    "import numpy as np\n",
    "import pandas as pd\n",
    "import sklearn\n",
    "import matplotlib.pyplot as plt\n",
    "import matplotlib.cm as cm\n",
    "from sklearn.decomposition import PCA\n",
    "from sklearn.manifold import TSNE\n",
    "from sklearn.manifold import Isomap\n",
    "from sklearn.datasets import load_digits"
   ]
  },
  {
   "cell_type": "code",
   "execution_count": null,
   "metadata": {},
   "outputs": [],
   "source": [
    "# Load and plot example digits\n",
    "digits = load_digits()\n",
    "fig, axes = plt.subplots(2, 5, figsize=(10, 5),\n",
    "subplot_kw = {'xticks':(), 'yticks': ()})\n",
    "for ax, img in zip(axes.ravel(), digits.images):\n",
    "    ax.imshow(img,cmap = cm.gray)"
   ]
  },
  {
   "cell_type": "code",
   "execution_count": null,
   "metadata": {},
   "outputs": [],
   "source": [
    "# Define function to plot clusters of digits\n",
    "def display_2d_component_names(model, selected, dataobj):\n",
    "    colors = [\n",
    "        \"#476A2A\", \n",
    "        \"#7851B8\", \n",
    "        \"#BD3430\", \n",
    "        \"#4A2D4E\", \n",
    "        \"#875525\",\n",
    "        \"#A83683\", \n",
    "        \"#4E655E\", \n",
    "        \"#853541\",\n",
    "        \"#3A3120\", \n",
    "        \"#535D8E\"\n",
    "    ]\n",
    "    \n",
    "    plt.figure(figsize = (14, 14))\n",
    "    plt.xlim(model[:, 0].min(), model[:, 0].max() + 1)\n",
    "    plt.ylim(model[:, 1].min(), model[:, 1].max() + 1)\n",
    "    \n",
    "    for i in range(len(dataobj.data)):\n",
    "        cindex = dataobj.target[i] % len(selected)\n",
    "        if dataobj.target[i] not in selected:\n",
    "            continue\n",
    "        plt.text(\n",
    "            model[i, 0], \n",
    "            model[i, 1], \n",
    "            str(dataobj.target_names[dataobj.target[i]]),\n",
    "            color = colors[cindex],\n",
    "            fontdict={'weight': 'bold', 'size': 9}\n",
    "        )\n",
    "        \n",
    "    plt.xlabel(\"model feature 0\")\n",
    "    plt.ylabel(\"model feature 1\")"
   ]
  },
  {
   "cell_type": "code",
   "execution_count": null,
   "metadata": {},
   "outputs": [],
   "source": [
    "# Define/plot PCA with two components\n",
    "pca = PCA(n_components = 2)\n",
    "pca.fit(digits.data)\n",
    "digits_pca = pca.transform(digits.data)\n",
    "display_2d_component_names(\n",
    "    digits_pca,\n",
    "    (0, 1, 2, 3, 4, 5, 6, 7, 8, 9),\n",
    "    digits\n",
    ")"
   ]
  },
  {
   "cell_type": "code",
   "execution_count": null,
   "metadata": {},
   "outputs": [],
   "source": [
    "# Define/plot TSNE\n",
    "tsne = TSNE(random_state = 42)\n",
    "digits_tsne = tsne.fit_transform(digits.data)\n",
    "display_2d_component_names(\n",
    "    digits_tsne,\n",
    "    (0, 1, 2, 3, 4, 5, 6, 7, 8, 9),\n",
    "    digits\n",
    ")"
   ]
  },
  {
   "cell_type": "code",
   "execution_count": null,
   "metadata": {},
   "outputs": [],
   "source": [
    "# Define/plot Isomap\n",
    "iso = Isomap(n_neighbors = 10, n_components = 2)\n",
    "digits_iso = iso.fit(digits.data).transform(digits.data)\n",
    "display_2d_component_names(\n",
    "    digits_iso,\n",
    "    (0, 1, 2, 3, 4, 5, 6, 7, 8, 9),\n",
    "    digits\n",
    ")"
   ]
  }
 ],
 "metadata": {
  "kernelspec": {
   "display_name": "Python 3",
   "language": "python",
   "name": "python3"
  },
  "language_info": {
   "codemirror_mode": {
    "name": "ipython",
    "version": 3
   },
   "file_extension": ".py",
   "mimetype": "text/x-python",
   "name": "python",
   "nbconvert_exporter": "python",
   "pygments_lexer": "ipython3",
   "version": "3.7.1"
  }
 },
 "nbformat": 4,
 "nbformat_minor": 2
}
